{
  "nbformat": 4,
  "nbformat_minor": 0,
  "metadata": {
    "colab": {
      "name": "DIP_Assignment_2.ipynb",
      "provenance": [],
      "authorship_tag": "ABX9TyMcxCzi4Q3LFqxdIPafp+ur",
      "include_colab_link": true
    },
    "kernelspec": {
      "name": "python3",
      "display_name": "Python 3"
    },
    "language_info": {
      "name": "python"
    }
  },
  "cells": [
    {
      "cell_type": "markdown",
      "metadata": {
        "id": "view-in-github",
        "colab_type": "text"
      },
      "source": [
        "<a href=\"https://colab.research.google.com/github/vishalrk1/DIP-Assignments/blob/main/DIP_Assignment_2.ipynb\" target=\"_parent\"><img src=\"https://colab.research.google.com/assets/colab-badge.svg\" alt=\"Open In Colab\"/></a>"
      ]
    },
    {
      "cell_type": "code",
      "source": [
        "import math\n",
        "import pandas as pd\n",
        "import numpy as np\n",
        "import matplotlib.pyplot as plt\n",
        "from PIL import Image"
      ],
      "metadata": {
        "id": "Q-VBUNaa17Wf"
      },
      "execution_count": 72,
      "outputs": []
    },
    {
      "cell_type": "code",
      "execution_count": 73,
      "metadata": {
        "id": "Rbmzns1v1HjZ"
      },
      "outputs": [],
      "source": [
        "img = [[52,\t55,\t61,\t59,\t79,\t61,\t76,\t61,],\n",
        "[62,\t59,\t55,\t104,\t94,\t85,\t59,\t71],\n",
        "[63,\t65,\t66,\t113,\t144,\t104,\t63,\t72,],\n",
        "[64,\t70,\t70,\t126,\t154,\t109,\t71,\t69],\n",
        "[67,\t73,\t68,\t106, 122,\t88,\t68,\t68],\n",
        "[68,\t79,\t60,\t70,\t77,\t66,\t58,\t75],\n",
        "[69,\t85,\t64,\t58,\t55,\t61,\t65,\t83],\n",
        "[70,\t87,\t69,\t68,\t65,\t73,\t78,\t90,],]"
      ]
    },
    {
      "cell_type": "code",
      "source": [
        "image = np.array(img)"
      ],
      "metadata": {
        "id": "6l0icArF10eM"
      },
      "execution_count": 74,
      "outputs": []
    },
    {
      "cell_type": "code",
      "source": [
        "plt.imshow(image, cmap='gray');"
      ],
      "metadata": {
        "colab": {
          "base_uri": "https://localhost:8080/",
          "height": 265
        },
        "id": "XfTWzS7s2E-r",
        "outputId": "a91483b6-30aa-4b15-b7fb-33fab21eb9ef"
      },
      "execution_count": 75,
      "outputs": [
        {
          "output_type": "display_data",
          "data": {
            "image/png": "[encoded data removed]",
            "text/plain": [
              "<Figure size 432x288 with 1 Axes>"
            ]
          },
          "metadata": {
            "needs_background": "light"
          }
        }
      ]
    },
    {
      "cell_type": "code",
      "source": [
        "image.shape"
      ],
      "metadata": {
        "colab": {
          "base_uri": "https://localhost:8080/"
        },
        "id": "GIu8L3tD2Hop",
        "outputId": "3b5241eb-a411-4eee-d80d-08d43ec3f9fd"
      },
      "execution_count": 76,
      "outputs": [
        {
          "output_type": "execute_result",
          "data": {
            "text/plain": [
              "(8, 8)"
            ]
          },
          "metadata": {},
          "execution_count": 76
        }
      ]
    },
    {
      "cell_type": "code",
      "source": [
        "unique_values, unique_count = np.unique(image, return_counts=True)\n",
        "print(unique_values)\n",
        "print(unique_count)"
      ],
      "metadata": {
        "colab": {
          "base_uri": "https://localhost:8080/"
        },
        "id": "C_ti-pLD2X7K",
        "outputId": "6eb8f158-4bdc-4be8-de35-1393124c209d"
      },
      "execution_count": 77,
      "outputs": [
        {
          "output_type": "stream",
          "name": "stdout",
          "text": [
            "[ 52  55  58  59  60  61  62  63  64  65  66  67  68  69  70  71  72  73\n",
            "  75  76  77  78  79  83  85  87  88  90  94 104 106 109 113 122 126 144\n",
            " 154]\n",
            "[1 3 2 3 1 4 1 2 2 3 2 1 5 3 4 2 1 2 1 1 1 1 2 1 2 1 1 1 1 2 1 1 1 1 1 1 1]\n"
          ]
        }
      ]
    },
    {
      "cell_type": "markdown",
      "source": [
        "* Calculating cumulative sum"
      ],
      "metadata": {
        "id": "u2Ze5P2R5hTM"
      }
    },
    {
      "cell_type": "code",
      "source": [
        "sum = 0\n",
        "cdf = []\n",
        "\n",
        "for idx, i in enumerate(unique_count):\n",
        "  sum += i\n",
        "  cdf.append(sum)\n",
        "\n",
        "print(cdf)"
      ],
      "metadata": {
        "colab": {
          "base_uri": "https://localhost:8080/"
        },
        "id": "ciMp_cnf2Zew",
        "outputId": "5761ac50-1f06-4fef-a648-cd2d33af3734"
      },
      "execution_count": 78,
      "outputs": [
        {
          "output_type": "stream",
          "name": "stdout",
          "text": [
            "[1, 4, 6, 9, 10, 14, 15, 17, 19, 22, 24, 25, 30, 33, 37, 39, 40, 42, 43, 44, 45, 46, 48, 49, 51, 52, 53, 54, 55, 57, 58, 59, 60, 61, 62, 63, 64]\n"
          ]
        }
      ]
    },
    {
      "cell_type": "markdown",
      "source": [
        "* calculating **Equalized Values**"
      ],
      "metadata": {
        "id": "ZtYeg3HR6kyP"
      }
    },
    {
      "cell_type": "code",
      "source": [
        "row = 8\n",
        "column = 8"
      ],
      "metadata": {
        "id": "X3z9YPAn69WY"
      },
      "execution_count": 79,
      "outputs": []
    },
    {
      "cell_type": "code",
      "source": [
        "equalized_values = []\n",
        "\n",
        "for idx, i in enumerate(unique_values):\n",
        "  h = ((cdf[idx] - cdf[0]) / ((row*column) - cdf[0])) * (256 - 1)\n",
        "  h_v = round(h)\n",
        "  equalized_values.append(h_v)\n",
        "\n",
        "print(equalized_values)"
      ],
      "metadata": {
        "colab": {
          "base_uri": "https://localhost:8080/"
        },
        "id": "tGKmPdL457hF",
        "outputId": "3d5e3cf9-94c2-448a-dc56-555fe4c5ebd4"
      },
      "execution_count": 80,
      "outputs": [
        {
          "output_type": "stream",
          "name": "stdout",
          "text": [
            "[0, 12, 20, 32, 36, 53, 57, 65, 73, 85, 93, 97, 117, 130, 146, 154, 158, 166, 170, 174, 178, 182, 190, 194, 202, 206, 210, 215, 219, 227, 231, 235, 239, 243, 247, 251, 255]\n"
          ]
        }
      ]
    },
    {
      "cell_type": "code",
      "source": [
        "dict_1 = {\n",
        "    'Pixel Intensity': unique_values,\n",
        "    'CDF': unique_count,\n",
        "    'Equalized v': equalized_values,\n",
        "}\n",
        "\n",
        "df = pd.DataFrame(dict_1)\n",
        "df"
      ],
      "metadata": {
        "colab": {
          "base_uri": "https://localhost:8080/",
          "height": 1000
        },
        "id": "nK-sqlZD7sAh",
        "outputId": "8a1e2385-9c16-4ce6-dfbb-3343469dec26"
      },
      "execution_count": 81,
      "outputs": [
        {
          "output_type": "execute_result",
          "data": {
            "text/html": [
              "\n",
              "  <div id=\"df-0423aa5d-4c7d-403e-8d53-e394edf9f75a\">\n",
              "    <div class=\"colab-df-container\">\n",
              "      <div>\n",
              "<style scoped>\n",
              "    .dataframe tbody tr th:only-of-type {\n",
              "        vertical-align: middle;\n",
              "    }\n",
              "\n",
              "    .dataframe tbody tr th {\n",
              "        vertical-align: top;\n",
              "    }\n",
              "\n",
              "    .dataframe thead th {\n",
              "        text-align: right;\n",
              "    }\n",
              "</style>\n",
              "<table border=\"1\" class=\"dataframe\">\n",
              "  <thead>\n",
              "    <tr style=\"text-align: right;\">\n",
              "      <th></th>\n",
              "      <th>Pixel Intensity</th>\n",
              "      <th>CDF</th>\n",
              "      <th>Equalized v</th>\n",
              "    </tr>\n",
              "  </thead>\n",
              "  <tbody>\n",
              "    <tr>\n",
              "      <th>0</th>\n",
              "      <td>52</td>\n",
              "      <td>1</td>\n",
              "      <td>0</td>\n",
              "    </tr>\n",
              "    <tr>\n",
              "      <th>1</th>\n",
              "      <td>55</td>\n",
              "      <td>3</td>\n",
              "      <td>12</td>\n",
              "    </tr>\n",
              "    <tr>\n",
              "      <th>2</th>\n",
              "      <td>58</td>\n",
              "      <td>2</td>\n",
              "      <td>20</td>\n",
              "    </tr>\n",
              "    <tr>\n",
              "      <th>3</th>\n",
              "      <td>59</td>\n",
              "      <td>3</td>\n",
              "      <td>32</td>\n",
              "    </tr>\n",
              "    <tr>\n",
              "      <th>4</th>\n",
              "      <td>60</td>\n",
              "      <td>1</td>\n",
              "      <td>36</td>\n",
              "    </tr>\n",
              "    <tr>\n",
              "      <th>5</th>\n",
              "      <td>61</td>\n",
              "      <td>4</td>\n",
              "      <td>53</td>\n",
              "    </tr>\n",
              "    <tr>\n",
              "      <th>6</th>\n",
              "      <td>62</td>\n",
              "      <td>1</td>\n",
              "      <td>57</td>\n",
              "    </tr>\n",
              "    <tr>\n",
              "      <th>7</th>\n",
              "      <td>63</td>\n",
              "      <td>2</td>\n",
              "      <td>65</td>\n",
              "    </tr>\n",
              "    <tr>\n",
              "      <th>8</th>\n",
              "      <td>64</td>\n",
              "      <td>2</td>\n",
              "      <td>73</td>\n",
              "    </tr>\n",
              "    <tr>\n",
              "      <th>9</th>\n",
              "      <td>65</td>\n",
              "      <td>3</td>\n",
              "      <td>85</td>\n",
              "    </tr>\n",
              "    <tr>\n",
              "      <th>10</th>\n",
              "      <td>66</td>\n",
              "      <td>2</td>\n",
              "      <td>93</td>\n",
              "    </tr>\n",
              "    <tr>\n",
              "      <th>11</th>\n",
              "      <td>67</td>\n",
              "      <td>1</td>\n",
              "      <td>97</td>\n",
              "    </tr>\n",
              "    <tr>\n",
              "      <th>12</th>\n",
              "      <td>68</td>\n",
              "      <td>5</td>\n",
              "      <td>117</td>\n",
              "    </tr>\n",
              "    <tr>\n",
              "      <th>13</th>\n",
              "      <td>69</td>\n",
              "      <td>3</td>\n",
              "      <td>130</td>\n",
              "    </tr>\n",
              "    <tr>\n",
              "      <th>14</th>\n",
              "      <td>70</td>\n",
              "      <td>4</td>\n",
              "      <td>146</td>\n",
              "    </tr>\n",
              "    <tr>\n",
              "      <th>15</th>\n",
              "      <td>71</td>\n",
              "      <td>2</td>\n",
              "      <td>154</td>\n",
              "    </tr>\n",
              "    <tr>\n",
              "      <th>16</th>\n",
              "      <td>72</td>\n",
              "      <td>1</td>\n",
              "      <td>158</td>\n",
              "    </tr>\n",
              "    <tr>\n",
              "      <th>17</th>\n",
              "      <td>73</td>\n",
              "      <td>2</td>\n",
              "      <td>166</td>\n",
              "    </tr>\n",
              "    <tr>\n",
              "      <th>18</th>\n",
              "      <td>75</td>\n",
              "      <td>1</td>\n",
              "      <td>170</td>\n",
              "    </tr>\n",
              "    <tr>\n",
              "      <th>19</th>\n",
              "      <td>76</td>\n",
              "      <td>1</td>\n",
              "      <td>174</td>\n",
              "    </tr>\n",
              "    <tr>\n",
              "      <th>20</th>\n",
              "      <td>77</td>\n",
              "      <td>1</td>\n",
              "      <td>178</td>\n",
              "    </tr>\n",
              "    <tr>\n",
              "      <th>21</th>\n",
              "      <td>78</td>\n",
              "      <td>1</td>\n",
              "      <td>182</td>\n",
              "    </tr>\n",
              "    <tr>\n",
              "      <th>22</th>\n",
              "      <td>79</td>\n",
              "      <td>2</td>\n",
              "      <td>190</td>\n",
              "    </tr>\n",
              "    <tr>\n",
              "      <th>23</th>\n",
              "      <td>83</td>\n",
              "      <td>1</td>\n",
              "      <td>194</td>\n",
              "    </tr>\n",
              "    <tr>\n",
              "      <th>24</th>\n",
              "      <td>85</td>\n",
              "      <td>2</td>\n",
              "      <td>202</td>\n",
              "    </tr>\n",
              "    <tr>\n",
              "      <th>25</th>\n",
              "      <td>87</td>\n",
              "      <td>1</td>\n",
              "      <td>206</td>\n",
              "    </tr>\n",
              "    <tr>\n",
              "      <th>26</th>\n",
              "      <td>88</td>\n",
              "      <td>1</td>\n",
              "      <td>210</td>\n",
              "    </tr>\n",
              "    <tr>\n",
              "      <th>27</th>\n",
              "      <td>90</td>\n",
              "      <td>1</td>\n",
              "      <td>215</td>\n",
              "    </tr>\n",
              "    <tr>\n",
              "      <th>28</th>\n",
              "      <td>94</td>\n",
              "      <td>1</td>\n",
              "      <td>219</td>\n",
              "    </tr>\n",
              "    <tr>\n",
              "      <th>29</th>\n",
              "      <td>104</td>\n",
              "      <td>2</td>\n",
              "      <td>227</td>\n",
              "    </tr>\n",
              "    <tr>\n",
              "      <th>30</th>\n",
              "      <td>106</td>\n",
              "      <td>1</td>\n",
              "      <td>231</td>\n",
              "    </tr>\n",
              "    <tr>\n",
              "      <th>31</th>\n",
              "      <td>109</td>\n",
              "      <td>1</td>\n",
              "      <td>235</td>\n",
              "    </tr>\n",
              "    <tr>\n",
              "      <th>32</th>\n",
              "      <td>113</td>\n",
              "      <td>1</td>\n",
              "      <td>239</td>\n",
              "    </tr>\n",
              "    <tr>\n",
              "      <th>33</th>\n",
              "      <td>122</td>\n",
              "      <td>1</td>\n",
              "      <td>243</td>\n",
              "    </tr>\n",
              "    <tr>\n",
              "      <th>34</th>\n",
              "      <td>126</td>\n",
              "      <td>1</td>\n",
              "      <td>247</td>\n",
              "    </tr>\n",
              "    <tr>\n",
              "      <th>35</th>\n",
              "      <td>144</td>\n",
              "      <td>1</td>\n",
              "      <td>251</td>\n",
              "    </tr>\n",
              "    <tr>\n",
              "      <th>36</th>\n",
              "      <td>154</td>\n",
              "      <td>1</td>\n",
              "      <td>255</td>\n",
              "    </tr>\n",
              "  </tbody>\n",
              "</table>\n",
              "</div>\n",
              "      <button class=\"colab-df-convert\" onclick=\"convertToInteractive('df-0423aa5d-4c7d-403e-8d53-e394edf9f75a')\"\n",
              "              title=\"Convert this dataframe to an interactive table.\"\n",
              "              style=\"display:none;\">\n",
              "        \n",
              "  <svg xmlns=\"http://www.w3.org/2000/svg\" height=\"24px\"viewBox=\"0 0 24 24\"\n",
              "       width=\"24px\">\n",
              "    <path d=\"M0 0h24v24H0V0z\" fill=\"none\"/>\n",
              "    <path d=\"M18.56 5.44l.94 2.06.94-2.06 2.06-.94-2.06-.94-.94-2.06-.94 2.06-2.06.94zm-11 1L8.5 8.5l.94-2.06 2.06-.94-2.06-.94L8.5 2.5l-.94 2.06-2.06.94zm10 10l.94 2.06.94-2.06 2.06-.94-2.06-.94-.94-2.06-.94 2.06-2.06.94z\"/><path d=\"M17.41 7.96l-1.37-1.37c-.4-.4-.92-.59-1.43-.59-.52 0-1.04.2-1.43.59L10.3 9.45l-7.72 7.72c-.78.78-.78 2.05 0 2.83L4 21.41c.39.39.9.59 1.41.59.51 0 1.02-.2 1.41-.59l7.78-7.78 2.81-2.81c.8-.78.8-2.07 0-2.86zM5.41 20L4 18.59l7.72-7.72 1.47 1.35L5.41 20z\"/>\n",
              "  </svg>\n",
              "      </button>\n",
              "      \n",
              "  <style>\n",
              "    .colab-df-container {\n",
              "      display:flex;\n",
              "      flex-wrap:wrap;\n",
              "      gap: 12px;\n",
              "    }\n",
              "\n",
              "    .colab-df-convert {\n",
              "      background-color: #E8F0FE;\n",
              "      border: none;\n",
              "      border-radius: 50%;\n",
              "      cursor: pointer;\n",
              "      display: none;\n",
              "      fill: #1967D2;\n",
              "      height: 32px;\n",
              "      padding: 0 0 0 0;\n",
              "      width: 32px;\n",
              "    }\n",
              "\n",
              "    .colab-df-convert:hover {\n",
              "      background-color: #E2EBFA;\n",
              "      box-shadow: 0px 1px 2px rgba(60, 64, 67, 0.3), 0px 1px 3px 1px rgba(60, 64, 67, 0.15);\n",
              "      fill: #174EA6;\n",
              "    }\n",
              "\n",
              "    [theme=dark] .colab-df-convert {\n",
              "      background-color: #3B4455;\n",
              "      fill: #D2E3FC;\n",
              "    }\n",
              "\n",
              "    [theme=dark] .colab-df-convert:hover {\n",
              "      background-color: #434B5C;\n",
              "      box-shadow: 0px 1px 3px 1px rgba(0, 0, 0, 0.15);\n",
              "      filter: drop-shadow(0px 1px 2px rgba(0, 0, 0, 0.3));\n",
              "      fill: #FFFFFF;\n",
              "    }\n",
              "  </style>\n",
              "\n",
              "      <script>\n",
              "        const buttonEl =\n",
              "          document.querySelector('#df-0423aa5d-4c7d-403e-8d53-e394edf9f75a button.colab-df-convert');\n",
              "        buttonEl.style.display =\n",
              "          google.colab.kernel.accessAllowed ? 'block' : 'none';\n",
              "\n",
              "        async function convertToInteractive(key) {\n",
              "          const element = document.querySelector('#df-0423aa5d-4c7d-403e-8d53-e394edf9f75a');\n",
              "          const dataTable =\n",
              "            await google.colab.kernel.invokeFunction('convertToInteractive',\n",
              "                                                     [key], {});\n",
              "          if (!dataTable) return;\n",
              "\n",
              "          const docLinkHtml = 'Like what you see? Visit the ' +\n",
              "            '<a target=\"_blank\" href=https://colab.research.google.com/notebooks/data_table.ipynb>data table notebook</a>'\n",
              "            + ' to learn more about interactive tables.';\n",
              "          element.innerHTML = '';\n",
              "          dataTable['output_type'] = 'display_data';\n",
              "          await google.colab.output.renderOutput(dataTable, element);\n",
              "          const docLink = document.createElement('div');\n",
              "          docLink.innerHTML = docLinkHtml;\n",
              "          element.appendChild(docLink);\n",
              "        }\n",
              "      </script>\n",
              "    </div>\n",
              "  </div>\n",
              "  "
            ],
            "text/plain": [
              "    Pixel Intensity  CDF  Equalized v\n",
              "0                52    1            0\n",
              "1                55    3           12\n",
              "2                58    2           20\n",
              "3                59    3           32\n",
              "4                60    1           36\n",
              "5                61    4           53\n",
              "6                62    1           57\n",
              "7                63    2           65\n",
              "8                64    2           73\n",
              "9                65    3           85\n",
              "10               66    2           93\n",
              "11               67    1           97\n",
              "12               68    5          117\n",
              "13               69    3          130\n",
              "14               70    4          146\n",
              "15               71    2          154\n",
              "16               72    1          158\n",
              "17               73    2          166\n",
              "18               75    1          170\n",
              "19               76    1          174\n",
              "20               77    1          178\n",
              "21               78    1          182\n",
              "22               79    2          190\n",
              "23               83    1          194\n",
              "24               85    2          202\n",
              "25               87    1          206\n",
              "26               88    1          210\n",
              "27               90    1          215\n",
              "28               94    1          219\n",
              "29              104    2          227\n",
              "30              106    1          231\n",
              "31              109    1          235\n",
              "32              113    1          239\n",
              "33              122    1          243\n",
              "34              126    1          247\n",
              "35              144    1          251\n",
              "36              154    1          255"
            ]
          },
          "metadata": {},
          "execution_count": 81
        }
      ]
    },
    {
      "cell_type": "code",
      "source": [
        "img_new = image\n",
        "print(img_new)"
      ],
      "metadata": {
        "colab": {
          "base_uri": "https://localhost:8080/"
        },
        "id": "WDbAz6VrEoY5",
        "outputId": "bfd1ddbe-2825-492c-a915-7cff02a015a4"
      },
      "execution_count": 82,
      "outputs": [
        {
          "output_type": "stream",
          "name": "stdout",
          "text": [
            "[[ 52  55  61  59  79  61  76  61]\n",
            " [ 62  59  55 104  94  85  59  71]\n",
            " [ 63  65  66 113 144 104  63  72]\n",
            " [ 64  70  70 126 154 109  71  69]\n",
            " [ 67  73  68 106 122  88  68  68]\n",
            " [ 68  79  60  70  77  66  58  75]\n",
            " [ 69  85  64  58  55  61  65  83]\n",
            " [ 70  87  69  68  65  73  78  90]]\n"
          ]
        }
      ]
    },
    {
      "cell_type": "code",
      "source": [
        "for idx, i in enumerate(img_new):\n",
        "  for index, j in enumerate(i):\n",
        "    pixel = df[df['Pixel Intensity'] == j ].index[0]\n",
        "    # print(f\"{j} == {equalized_values[pixel]}\")\n",
        "    img_new[idx][index] = equalized_values[pixel]\n",
        "\n",
        "print(img_new)"
      ],
      "metadata": {
        "colab": {
          "base_uri": "https://localhost:8080/"
        },
        "id": "YWUkPCFmAjN7",
        "outputId": "9b000c8a-4fc7-4c8c-f85a-8bf85da87061"
      },
      "execution_count": 83,
      "outputs": [
        {
          "output_type": "stream",
          "name": "stdout",
          "text": [
            "[[  0  12  53  32 190  53 174  53]\n",
            " [ 57  32  12 227 219 202  32 154]\n",
            " [ 65  85  93 239 251 227  65 158]\n",
            " [ 73 146 146 247 255 235 154 130]\n",
            " [ 97 166 117 231 243 210 117 117]\n",
            " [117 190  36 146 178  93  20 170]\n",
            " [130 202  73  20  12  53  85 194]\n",
            " [146 206 130 117  85 166 182 215]]\n"
          ]
        }
      ]
    },
    {
      "cell_type": "code",
      "source": [
        "plt.imshow(img_new, cmap='gray')"
      ],
      "metadata": {
        "colab": {
          "base_uri": "https://localhost:8080/",
          "height": 284
        },
        "id": "sASSBLGUDMbE",
        "outputId": "659bb44d-b142-4f40-bcc3-9074186695a4"
      },
      "execution_count": 87,
      "outputs": [
        {
          "output_type": "execute_result",
          "data": {
            "text/plain": [
              "<matplotlib.image.AxesImage at 0x7f5f75732e90>"
            ]
          },
          "metadata": {},
          "execution_count": 87
        },
        {
          "output_type": "display_data",
          "data": {
            "image/png": "[encoded data removed]",
            "text/plain": [
              "<Figure size 432x288 with 1 Axes>"
            ]
          },
          "metadata": {
            "needs_background": "light"
          }
        }
      ]
    },
    {
      "cell_type": "markdown",
      "source": [
        "## Full Conde"
      ],
      "metadata": {
        "id": "R9LHb_57FpIy"
      }
    },
    {
      "cell_type": "code",
      "source": [
        "import math\n",
        "import pandas as pd\n",
        "import numpy as np\n",
        "import matplotlib.pyplot as plt\n",
        "from PIL import Image\n",
        "\n",
        "# 8x8 image from wikipedia\n",
        "img = [[52,\t55,\t61,\t59,\t79,\t61,\t76,\t61,],\n",
        "[62,\t59,\t55,\t104,\t94,\t85,\t59,\t71],\n",
        "[63,\t65,\t66,\t113,\t144,\t104,\t63,\t72,],\n",
        "[64,\t70,\t70,\t126,\t154,\t109,\t71,\t69],\n",
        "[67,\t73,\t68,\t106, 122,\t88,\t68,\t68],\n",
        "[68,\t79,\t60,\t70,\t77,\t66,\t58,\t75],\n",
        "[69,\t85,\t64,\t58,\t55,\t61,\t65,\t83],\n",
        "[70,\t87,\t69,\t68,\t65,\t73,\t78,\t90,],]\n",
        "\n",
        "# converting image arry into numpy array\n",
        "image = np.array(img)\n",
        "\n",
        "# finding all unique pixel values and their counts\n",
        "unique_values, unique_count = np.unique(image, return_counts=True)\n",
        "print(f\"All unique pixel values: {unique_values}\")\n",
        "print(f\"count of all unique pixel values:{unique_count}\")\n",
        "\n",
        "# Calculating cumalitve sum (CDF)\n",
        "sum = 0\n",
        "cdf = []\n",
        "for idx, i in enumerate(unique_count):\n",
        "  sum += i\n",
        "  cdf.append(sum)\n",
        "\n",
        "print(f\"CDF: {cdf}\")\n",
        "\n",
        "# calculating equalized values\n",
        "row, column = image.shape\n",
        "equalized_values = []\n",
        "for idx, i in enumerate(unique_values):\n",
        "  h = ((cdf[idx] - cdf[0]) / ((row*column) - cdf[0])) * (256 - 1)\n",
        "  h_v = round(h)\n",
        "  equalized_values.append(h_v)\n",
        "\n",
        "print(f\"Equalized Values: {equalized_values}\")\n",
        "\n",
        "# Replacing pixel values with equalized values\n",
        "for idx, i in enumerate(image):\n",
        "  for index, j in enumerate(i):\n",
        "    pixel = df[df['Pixel Intensity'] == j ].index[0]\n",
        "    image[idx][index] = equalized_values[pixel]\n",
        "\n",
        "# plotting new image\n",
        "print('\\n')\n",
        "plt.imshow(image, cmap='gray');"
      ],
      "metadata": {
        "colab": {
          "base_uri": "https://localhost:8080/",
          "height": 431
        },
        "id": "el9THJTKFcpq",
        "outputId": "e5d70984-609c-4c68-920c-bcca0400ede7"
      },
      "execution_count": 92,
      "outputs": [
        {
          "output_type": "stream",
          "name": "stdout",
          "text": [
            "All unique pixel values: [ 52  55  58  59  60  61  62  63  64  65  66  67  68  69  70  71  72  73\n",
            "  75  76  77  78  79  83  85  87  88  90  94 104 106 109 113 122 126 144\n",
            " 154]\n",
            "count of all unique pixel values:[1 3 2 3 1 4 1 2 2 3 2 1 5 3 4 2 1 2 1 1 1 1 2 1 2 1 1 1 1 2 1 1 1 1 1 1 1]\n",
            "CDF: [1, 4, 6, 9, 10, 14, 15, 17, 19, 22, 24, 25, 30, 33, 37, 39, 40, 42, 43, 44, 45, 46, 48, 49, 51, 52, 53, 54, 55, 57, 58, 59, 60, 61, 62, 63, 64]\n",
            "Equalized Values: [0, 12, 20, 32, 36, 53, 57, 65, 73, 85, 93, 97, 117, 130, 146, 154, 158, 166, 170, 174, 178, 182, 190, 194, 202, 206, 210, 215, 219, 227, 231, 235, 239, 243, 247, 251, 255]\n",
            "\n",
            "\n"
          ]
        },
        {
          "output_type": "display_data",
          "data": {
            "image/png": "[encoded data removed]",
            "text/plain": [
              "<Figure size 432x288 with 1 Axes>"
            ]
          },
          "metadata": {
            "needs_background": "light"
          }
        }
      ]
    },
    {
      "cell_type": "code",
      "source": [
        ""
      ],
      "metadata": {
        "id": "5DCPOw8GGty3"
      },
      "execution_count": null,
      "outputs": []
    }
  ]
}